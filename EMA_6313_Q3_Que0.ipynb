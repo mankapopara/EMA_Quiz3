{
 "cells": [
  {
   "cell_type": "code",
   "execution_count": null,
   "metadata": {},
   "outputs": [
    {
     "name": "stdout",
     "output_type": "stream",
     "text": [
      "rotation matrix is:\n",
      " [[0.24661604 0.82871591 0.45645046]]\n",
      "The dielectric tensor for the given monoclinic system is:\n",
      " [[16.03  0.   -1.49]\n",
      " [ 0.   19.25  0.  ]\n",
      " [-1.49  0.   20.97]]\n",
      "The transformed dielectric permittivity along the [253] direction is:\n",
      " 18.22884404662721\n"
     ]
    }
   ],
   "source": [
    "#solution to question0\n",
    "#UFID = 8 0 7 7 3 6 5 3 = D1 D2 D3 D4 D5 D6 D7 D8\n",
    "import numpy as np\n",
    "import math\n",
    "\n",
    "# Lattice parameters\n",
    "a = 0.5115\n",
    "b = 0.5168\n",
    "c = 0.5290\n",
    "# Angles\n",
    "alpha = 90\n",
    "beta = 99.211\n",
    "gamma = 90\n",
    "\n",
    "# Metric tensor\n",
    "m_t = np.array([\n",
    "    [a**2, a*b*math.cos(math.radians(gamma)), a*c*math.cos(math.radians(beta))],\n",
    "    [b*a*math.cos(math.radians(gamma)), b**2, b*c*math.cos(math.radians(alpha))],\n",
    "    [c*a*math.cos(math.radians(beta)), c*b*math.cos(math.radians(alpha)), c**2]\n",
    "])\n",
    "\n",
    "# Basis vectors\n",
    "u = np.array([1, 0, 0])\n",
    "v = np.array([0, 1, 0])\n",
    "w = np.array([0, 0, 1])\n",
    "\n",
    "# Rotation vector (target direction)\n",
    "n_vec = np.array([2, 5, 3])\n",
    "\n",
    "# Grouping basis vectors\n",
    "basis_vec = [u, v, w]\n",
    "\n",
    "# Function to compute the metric-based dot product between two vectors\n",
    "def rotation_element(vec1, m_t, vec2):\n",
    "    numerator = np.dot(vec1, np.dot(m_t, vec2.T))  # Metric-based dot product\n",
    "    norm_1 = math.sqrt(np.dot(vec1, np.dot(m_t, vec1.T)))  # Metric norm of vec1\n",
    "    norm_2 = math.sqrt(np.dot(vec2, np.dot(m_t, vec2.T)))  # Metric norm of vec2\n",
    "    return numerator / (norm_1 * norm_2)\n",
    "\n",
    "# Calculate the rotation matrix row by computing the dot product of n_vec with each basis vector\n",
    "rotation_matrix_row = [rotation_element(orig, m_t, n_vec) for orig in basis_vec]\n",
    "\n",
    "# Convert to a NumPy array (1x3 row vector)\n",
    "rotation_matrix = np.array([rotation_matrix_row])\n",
    "print('rotation matrix is:\\n',rotation_matrix)\n",
    "\n",
    "# Dielectric permittivity tensor\n",
    "k = np.array([\n",
    "    [16.03, 0, -1.49],\n",
    "    [0, 19.25, 0],\n",
    "    [-1.49, 0, 20.97]\n",
    "])\n",
    "\n",
    "print(\"The dielectric tensor for the given monoclinic system is:\\n\", k)\n",
    "\n",
    "# Calculate the transformed dielectric permittivity along the [253] direction\n",
    "# The transformation uses both the rotation matrix and its transpose\n",
    "k_transformed = np.matmul(rotation_matrix, np.matmul(k, rotation_matrix.T))\n",
    "\n",
    "print(\"The transformed dielectric permittivity along the [253] direction is:\\n\", k_transformed[0, 0])\n"
   ]
  }
 ],
 "metadata": {
  "language_info": {
   "name": "python"
  }
 },
 "nbformat": 4,
 "nbformat_minor": 2
}
